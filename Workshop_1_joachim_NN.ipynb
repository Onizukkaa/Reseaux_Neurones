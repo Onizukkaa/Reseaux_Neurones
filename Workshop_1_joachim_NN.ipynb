{
 "cells": [
  {
   "cell_type": "markdown",
   "id": "d336c15a",
   "metadata": {},
   "source": [
    "# Work Shop Keras Titanic"
   ]
  },
  {
   "cell_type": "code",
   "execution_count": 1,
   "id": "298a293e",
   "metadata": {},
   "outputs": [],
   "source": [
    "from tensorflow import keras\n",
    "from keras.models import Sequential\n",
    "from keras.layers import Dense\n",
    "import pandas as pd\n",
    "from sklearn.preprocessing import StandardScaler\n",
    "from sklearn.datasets import make_regression"
   ]
  },
  {
   "cell_type": "code",
   "execution_count": 2,
   "id": "911d6942",
   "metadata": {},
   "outputs": [],
   "source": [
    "train=pd.read_csv(\"train_titanic.csv\")\n",
    "X=train.drop([\"Survived\",\"Name\",\"Sex\",\"Ticket\",\"Cabin\",\"Embarked\"],axis=1)\n",
    "X[\"Pclass\"]=X[\"Pclass\"].fillna(5)\n",
    "X[\"Age\"]=X[\"Age\"].fillna(X[\"Age\"].mean())\n",
    "X[\"Fare\"]=X[\"Fare\"].fillna(X[\"Fare\"].mean())\n",
    "y=train[\"Survived\"]\n"
   ]
  },
  {
   "cell_type": "code",
   "execution_count": 3,
   "id": "d7a0c969",
   "metadata": {},
   "outputs": [],
   "source": [
    "X= StandardScaler().fit_transform(X)\n",
    "y= StandardScaler().fit_transform(y.values.reshape(-1, 1))"
   ]
  },
  {
   "cell_type": "code",
   "execution_count": 4,
   "id": "3da0846f",
   "metadata": {},
   "outputs": [],
   "source": [
    "from sklearn.model_selection import train_test_split\n",
    "X_train,X_test,y_train,y_test = train_test_split(X,y,test_size = 0.1, random_state=5)"
   ]
  },
  {
   "cell_type": "markdown",
   "id": "8e0d40b0",
   "metadata": {},
   "source": [
    "# Création du réseau de neurones(modèle séquentiel) composé de 3 couches"
   ]
  },
  {
   "cell_type": "code",
   "execution_count": 5,
   "id": "da58466f",
   "metadata": {},
   "outputs": [],
   "source": [
    "model=Sequential([\n",
    "    Dense(units=6, activation=\"relu\",input_dim=6,name=\"model_hidden1\"), #units=nbr de variables d'entrées\n",
    "    Dense(activation=\"relu\",units=300,kernel_initializer=\"he_uniform\",name=\"model_hidden2\"), #units=nbr de neurones\n",
    "    Dense(activation=\"relu\",units=200,kernel_initializer=\"he_uniform\",name=\"model_hidden2_1\"),\n",
    "    Dense(activation=\"tanh\",units=1,kernel_initializer=\"he_uniform\",name=\"model_hidden3\") #couche de sortie\n",
    "])\n"
   ]
  },
  {
   "cell_type": "code",
   "execution_count": 6,
   "id": "dc41b852",
   "metadata": {},
   "outputs": [],
   "source": [
    "from tensorflow.keras.optimizers import SGD\n",
    "from keras import losses \n",
    "from keras import optimizers \n",
    "from keras import metrics "
   ]
  },
  {
   "cell_type": "code",
   "execution_count": 7,
   "id": "8ae8d974",
   "metadata": {},
   "outputs": [],
   "source": [
    "# loss = \"mean_squared_logarithmic_error\",\"mean_absolute_error\",\"mean_squared_error\",\"sparse_categorical_crossentropy\"\n",
    "#\"binary_crossentropy\"(ideal pour binaire)\n",
    "opt=SGD(learning_rate = 0.01, momentum = 0.9, nesterov = True)\n",
    "\n",
    "model.compile(loss=\"mean_squared_error\",\n",
    "              optimizer=opt,               \n",
    "              metrics=[\"accuracy\"]\n",
    "              )"
   ]
  },
  {
   "cell_type": "code",
   "execution_count": 8,
   "id": "8f47f145",
   "metadata": {
    "scrolled": false
   },
   "outputs": [
    {
     "name": "stdout",
     "output_type": "stream",
     "text": [
      "Epoch 1/50\n",
      "27/27 [==============================] - 1s 7ms/step - loss: 1.0434 - accuracy: 0.0000e+00 - val_loss: 0.9940 - val_accuracy: 0.0000e+00\n",
      "Epoch 2/50\n",
      "27/27 [==============================] - 0s 2ms/step - loss: 0.9008 - accuracy: 0.0000e+00 - val_loss: 0.9470 - val_accuracy: 0.0000e+00\n",
      "Epoch 3/50\n",
      "27/27 [==============================] - 0s 2ms/step - loss: 0.8194 - accuracy: 0.0000e+00 - val_loss: 0.8902 - val_accuracy: 0.0000e+00\n",
      "Epoch 4/50\n",
      "27/27 [==============================] - 0s 2ms/step - loss: 0.8012 - accuracy: 0.0000e+00 - val_loss: 0.9534 - val_accuracy: 0.0000e+00\n",
      "Epoch 5/50\n",
      "27/27 [==============================] - 0s 2ms/step - loss: 0.7980 - accuracy: 0.0000e+00 - val_loss: 0.9214 - val_accuracy: 0.0000e+00\n",
      "Epoch 6/50\n",
      "27/27 [==============================] - 0s 2ms/step - loss: 0.7777 - accuracy: 0.0000e+00 - val_loss: 0.8898 - val_accuracy: 0.0000e+00\n",
      "Epoch 7/50\n",
      "27/27 [==============================] - 0s 2ms/step - loss: 0.7715 - accuracy: 0.0000e+00 - val_loss: 0.9022 - val_accuracy: 0.0000e+00\n",
      "Epoch 8/50\n",
      "27/27 [==============================] - 0s 2ms/step - loss: 0.7704 - accuracy: 0.0000e+00 - val_loss: 0.8888 - val_accuracy: 0.0000e+00\n",
      "Epoch 9/50\n",
      "27/27 [==============================] - 0s 2ms/step - loss: 0.7581 - accuracy: 0.0000e+00 - val_loss: 0.9008 - val_accuracy: 0.0000e+00\n",
      "Epoch 10/50\n",
      "27/27 [==============================] - 0s 2ms/step - loss: 0.7656 - accuracy: 0.0000e+00 - val_loss: 0.8996 - val_accuracy: 0.0000e+00\n",
      "Epoch 11/50\n",
      "27/27 [==============================] - 0s 2ms/step - loss: 0.7482 - accuracy: 0.0000e+00 - val_loss: 0.8795 - val_accuracy: 0.0000e+00\n",
      "Epoch 12/50\n",
      "27/27 [==============================] - 0s 2ms/step - loss: 0.7502 - accuracy: 0.0000e+00 - val_loss: 0.8620 - val_accuracy: 0.0000e+00\n",
      "Epoch 13/50\n",
      "27/27 [==============================] - 0s 2ms/step - loss: 0.7513 - accuracy: 0.0000e+00 - val_loss: 0.9110 - val_accuracy: 0.0000e+00\n",
      "Epoch 14/50\n",
      "27/27 [==============================] - 0s 2ms/step - loss: 0.7368 - accuracy: 0.0000e+00 - val_loss: 0.8949 - val_accuracy: 0.0000e+00\n",
      "Epoch 15/50\n",
      "27/27 [==============================] - 0s 2ms/step - loss: 0.7402 - accuracy: 0.0000e+00 - val_loss: 0.8761 - val_accuracy: 0.0000e+00\n",
      "Epoch 16/50\n",
      "27/27 [==============================] - 0s 2ms/step - loss: 0.7396 - accuracy: 0.0000e+00 - val_loss: 0.9152 - val_accuracy: 0.0000e+00\n",
      "Epoch 17/50\n",
      "27/27 [==============================] - 0s 2ms/step - loss: 0.7290 - accuracy: 0.0000e+00 - val_loss: 0.9113 - val_accuracy: 0.0000e+00\n",
      "Epoch 18/50\n",
      "27/27 [==============================] - 0s 2ms/step - loss: 0.7362 - accuracy: 0.0000e+00 - val_loss: 0.8858 - val_accuracy: 0.0000e+00\n",
      "Epoch 19/50\n",
      "27/27 [==============================] - 0s 2ms/step - loss: 0.7252 - accuracy: 0.0000e+00 - val_loss: 0.8701 - val_accuracy: 0.0000e+00\n",
      "Epoch 20/50\n",
      "27/27 [==============================] - 0s 2ms/step - loss: 0.7330 - accuracy: 0.0000e+00 - val_loss: 0.8839 - val_accuracy: 0.0000e+00\n",
      "Epoch 21/50\n",
      "27/27 [==============================] - 0s 2ms/step - loss: 0.7316 - accuracy: 0.0000e+00 - val_loss: 0.9135 - val_accuracy: 0.0000e+00\n",
      "Epoch 22/50\n",
      "27/27 [==============================] - 0s 2ms/step - loss: 0.7296 - accuracy: 0.0000e+00 - val_loss: 0.8690 - val_accuracy: 0.0000e+00\n",
      "Epoch 23/50\n",
      "27/27 [==============================] - 0s 2ms/step - loss: 0.7214 - accuracy: 0.0000e+00 - val_loss: 0.8618 - val_accuracy: 0.0000e+00\n",
      "Epoch 24/50\n",
      "27/27 [==============================] - 0s 2ms/step - loss: 0.7220 - accuracy: 0.0000e+00 - val_loss: 0.8768 - val_accuracy: 0.0000e+00\n",
      "Epoch 25/50\n",
      "27/27 [==============================] - 0s 2ms/step - loss: 0.7199 - accuracy: 0.0000e+00 - val_loss: 0.8909 - val_accuracy: 0.0000e+00\n",
      "Epoch 26/50\n",
      "27/27 [==============================] - 0s 2ms/step - loss: 0.7149 - accuracy: 0.0000e+00 - val_loss: 0.8880 - val_accuracy: 0.0000e+00\n",
      "Epoch 27/50\n",
      "27/27 [==============================] - 0s 2ms/step - loss: 0.7125 - accuracy: 0.0000e+00 - val_loss: 0.8573 - val_accuracy: 0.0000e+00\n",
      "Epoch 28/50\n",
      "27/27 [==============================] - 0s 2ms/step - loss: 0.7162 - accuracy: 0.0000e+00 - val_loss: 0.8740 - val_accuracy: 0.0000e+00\n",
      "Epoch 29/50\n",
      "27/27 [==============================] - 0s 2ms/step - loss: 0.7133 - accuracy: 0.0000e+00 - val_loss: 0.8670 - val_accuracy: 0.0000e+00\n",
      "Epoch 30/50\n",
      "27/27 [==============================] - 0s 2ms/step - loss: 0.7081 - accuracy: 0.0000e+00 - val_loss: 0.9006 - val_accuracy: 0.0000e+00\n",
      "Epoch 31/50\n",
      "27/27 [==============================] - 0s 2ms/step - loss: 0.6946 - accuracy: 0.0000e+00 - val_loss: 0.8964 - val_accuracy: 0.0000e+00\n",
      "Epoch 32/50\n",
      "27/27 [==============================] - 0s 2ms/step - loss: 0.7075 - accuracy: 0.0000e+00 - val_loss: 0.9078 - val_accuracy: 0.0000e+00\n",
      "Epoch 33/50\n",
      "27/27 [==============================] - 0s 2ms/step - loss: 0.7058 - accuracy: 0.0000e+00 - val_loss: 0.8620 - val_accuracy: 0.0000e+00\n",
      "Epoch 34/50\n",
      "27/27 [==============================] - 0s 2ms/step - loss: 0.7093 - accuracy: 0.0000e+00 - val_loss: 0.8971 - val_accuracy: 0.0000e+00\n",
      "Epoch 35/50\n",
      "27/27 [==============================] - 0s 2ms/step - loss: 0.6997 - accuracy: 0.0000e+00 - val_loss: 0.8945 - val_accuracy: 0.0000e+00\n",
      "Epoch 36/50\n",
      "27/27 [==============================] - 0s 2ms/step - loss: 0.7099 - accuracy: 0.0000e+00 - val_loss: 0.9026 - val_accuracy: 0.0000e+00\n",
      "Epoch 37/50\n",
      "27/27 [==============================] - 0s 2ms/step - loss: 0.6968 - accuracy: 0.0000e+00 - val_loss: 0.8964 - val_accuracy: 0.0000e+00\n",
      "Epoch 38/50\n",
      "27/27 [==============================] - 0s 2ms/step - loss: 0.6993 - accuracy: 0.0000e+00 - val_loss: 0.8740 - val_accuracy: 0.0000e+00\n",
      "Epoch 39/50\n",
      "27/27 [==============================] - 0s 2ms/step - loss: 0.6935 - accuracy: 0.0000e+00 - val_loss: 0.9068 - val_accuracy: 0.0000e+00\n",
      "Epoch 40/50\n",
      "27/27 [==============================] - 0s 2ms/step - loss: 0.7113 - accuracy: 0.0000e+00 - val_loss: 0.9309 - val_accuracy: 0.0000e+00\n",
      "Epoch 41/50\n",
      "27/27 [==============================] - 0s 2ms/step - loss: 0.6917 - accuracy: 0.0000e+00 - val_loss: 0.9997 - val_accuracy: 0.0000e+00\n",
      "Epoch 42/50\n",
      "27/27 [==============================] - 0s 2ms/step - loss: 0.7150 - accuracy: 0.0000e+00 - val_loss: 0.9405 - val_accuracy: 0.0000e+00\n",
      "Epoch 43/50\n",
      "27/27 [==============================] - 0s 2ms/step - loss: 0.6959 - accuracy: 0.0000e+00 - val_loss: 0.9359 - val_accuracy: 0.0000e+00\n",
      "Epoch 44/50\n",
      "27/27 [==============================] - 0s 2ms/step - loss: 0.6884 - accuracy: 0.0000e+00 - val_loss: 0.9500 - val_accuracy: 0.0000e+00\n",
      "Epoch 45/50\n",
      "27/27 [==============================] - 0s 2ms/step - loss: 0.6936 - accuracy: 0.0000e+00 - val_loss: 0.9077 - val_accuracy: 0.0000e+00\n",
      "Epoch 46/50\n",
      "27/27 [==============================] - 0s 2ms/step - loss: 0.6963 - accuracy: 0.0000e+00 - val_loss: 0.9684 - val_accuracy: 0.0000e+00\n",
      "Epoch 47/50\n",
      "27/27 [==============================] - 0s 2ms/step - loss: 0.6978 - accuracy: 0.0000e+00 - val_loss: 0.9176 - val_accuracy: 0.0000e+00\n",
      "Epoch 48/50\n",
      "27/27 [==============================] - 0s 2ms/step - loss: 0.6953 - accuracy: 0.0000e+00 - val_loss: 0.9574 - val_accuracy: 0.0000e+00\n",
      "Epoch 49/50\n",
      "27/27 [==============================] - 0s 2ms/step - loss: 0.6880 - accuracy: 0.0000e+00 - val_loss: 0.9677 - val_accuracy: 0.0000e+00\n",
      "Epoch 50/50\n",
      "27/27 [==============================] - 0s 2ms/step - loss: 0.6968 - accuracy: 0.0000e+00 - val_loss: 0.9568 - val_accuracy: 0.0000e+00\n"
     ]
    }
   ],
   "source": [
    "#training model\n",
    "history=model.fit(X_train,y_train,validation_data=(X_test,y_test),epochs=50,batch_size=30)"
   ]
  },
  {
   "cell_type": "code",
   "execution_count": 9,
   "id": "ffe9aaac",
   "metadata": {},
   "outputs": [
    {
     "name": "stdout",
     "output_type": "stream",
     "text": [
      "26/26 [==============================] - 0s 1ms/step - loss: 0.6539 - accuracy: 0.0000e+00\n",
      "3/3 [==============================] - 0s 2ms/step - loss: 0.9568 - accuracy: 0.0000e+00\n",
      "Train ; 0.0, Test: 0.0\n"
     ]
    }
   ],
   "source": [
    "#evaluate the model\n",
    "_,train_acc=model.evaluate(X_train,y_train)\n",
    "_,test_acc=model.evaluate(X_test,y_test)\n",
    "print(f\"Train ; {train_acc}, Test: {test_acc}\")"
   ]
  },
  {
   "cell_type": "code",
   "execution_count": 10,
   "id": "65245dfd",
   "metadata": {},
   "outputs": [
    {
     "name": "stdout",
     "output_type": "stream",
     "text": [
      "dict_keys(['loss', 'accuracy', 'val_loss', 'val_accuracy'])\n"
     ]
    }
   ],
   "source": [
    "print(history.history.keys())"
   ]
  },
  {
   "cell_type": "markdown",
   "id": "a10d0d06",
   "metadata": {},
   "source": [
    "# Courbe d'apprentissage"
   ]
  },
  {
   "cell_type": "code",
   "execution_count": 11,
   "id": "74d6074f",
   "metadata": {},
   "outputs": [],
   "source": [
    "import matplotlib.pyplot as plt"
   ]
  },
  {
   "cell_type": "code",
   "execution_count": 12,
   "id": "7eba8f90",
   "metadata": {},
   "outputs": [
    {
     "data": {
      "image/png": "[encoded data removed]",
      "text/plain": [
       "<Figure size 432x288 with 1 Axes>"
      ]
     },
     "metadata": {
      "needs_background": "light"
     },
     "output_type": "display_data"
    },
    {
     "data": {
      "image/png": "[encoded data removed]",
      "text/plain": [
       "<Figure size 432x288 with 1 Axes>"
      ]
     },
     "metadata": {
      "needs_background": "light"
     },
     "output_type": "display_data"
    }
   ],
   "source": [
    "# summarize history for accuracy\n",
    "plt.plot(history.history['accuracy'])\n",
    "plt.plot(history.history['val_accuracy'])\n",
    "plt.title('model accuracy')\n",
    "plt.ylabel('accuracy')\n",
    "plt.xlabel('epoch')\n",
    "plt.legend(['train', 'test'], loc='upper left')\n",
    "plt.show()\n",
    "# summarize history for loss\n",
    "plt.plot(history.history['loss'])\n",
    "plt.plot(history.history['val_loss'])\n",
    "plt.title('model loss')\n",
    "plt.ylabel('loss')\n",
    "plt.xlabel('epoch')\n",
    "plt.legend(['train', 'test'], loc='upper left')\n",
    "plt.show()\n"
   ]
  },
  {
   "cell_type": "code",
   "execution_count": null,
   "id": "de456afd",
   "metadata": {},
   "outputs": [],
   "source": []
  }
 ],
 "metadata": {
  "kernelspec": {
   "display_name": "Python 3 (ipykernel)",
   "language": "python",
   "name": "python3"
  },
  "language_info": {
   "codemirror_mode": {
    "name": "ipython",
    "version": 3
   },
   "file_extension": ".py",
   "mimetype": "text/x-python",
   "name": "python",
   "nbconvert_exporter": "python",
   "pygments_lexer": "ipython3",
   "version": "3.8.12"
  }
 },
 "nbformat": 4,
 "nbformat_minor": 5
}
